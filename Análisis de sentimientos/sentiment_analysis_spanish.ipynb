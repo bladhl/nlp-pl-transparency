{
  "nbformat": 4,
  "nbformat_minor": 0,
  "metadata": {
    "kernelspec": {
      "display_name": "Python 3",
      "language": "python",
      "name": "python3"
    },
    "language_info": {
      "codemirror_mode": {
        "name": "ipython",
        "version": 3
      },
      "file_extension": ".py",
      "mimetype": "text/x-python",
      "name": "python",
      "nbconvert_exporter": "python",
      "pygments_lexer": "ipython3",
      "version": "3.5.3"
    },
    "colab": {
      "name": "sentiment-analysis-spanish.ipynb",
      "provenance": []
    }
  },
  "cells": [
    {
      "cell_type": "markdown",
      "metadata": {
        "id": "MRmWN6rXMCKK"
      },
      "source": [
        "# I - Instalación de librerías"
      ]
    },
    {
      "cell_type": "code",
      "metadata": {
        "colab": {
          "base_uri": "https://localhost:8080/"
        },
        "id": "Pa3zpHyqMH79",
        "outputId": "3477f58f-ce43-4a0d-ce00-91e4e150a9aa"
      },
      "source": [
        "pip install spanish_sentiment_analysis"
      ],
      "execution_count": 60,
      "outputs": [
        {
          "output_type": "stream",
          "text": [
            "Requirement already satisfied: spanish_sentiment_analysis in /usr/local/lib/python3.7/dist-packages (1.0.0)\n",
            "Requirement already satisfied: numpy in /usr/local/lib/python3.7/dist-packages (from spanish_sentiment_analysis) (1.19.5)\n",
            "Requirement already satisfied: scipy in /usr/local/lib/python3.7/dist-packages (from spanish_sentiment_analysis) (1.4.1)\n",
            "Requirement already satisfied: nltk in /usr/local/lib/python3.7/dist-packages (from spanish_sentiment_analysis) (3.2.5)\n",
            "Requirement already satisfied: marisa-trie in /usr/local/lib/python3.7/dist-packages (from spanish_sentiment_analysis) (0.7.7)\n",
            "Requirement already satisfied: sklearn in /usr/local/lib/python3.7/dist-packages (from spanish_sentiment_analysis) (0.0)\n",
            "Requirement already satisfied: setuptools in /usr/local/lib/python3.7/dist-packages (from marisa-trie->spanish_sentiment_analysis) (57.4.0)\n",
            "Requirement already satisfied: six in /usr/local/lib/python3.7/dist-packages (from nltk->spanish_sentiment_analysis) (1.15.0)\n",
            "Requirement already satisfied: scikit-learn in /usr/local/lib/python3.7/dist-packages (from sklearn->spanish_sentiment_analysis) (0.22.2.post1)\n",
            "Requirement already satisfied: joblib>=0.11 in /usr/local/lib/python3.7/dist-packages (from scikit-learn->sklearn->spanish_sentiment_analysis) (1.0.1)\n"
          ],
          "name": "stdout"
        }
      ]
    },
    {
      "cell_type": "markdown",
      "metadata": {
        "id": "ywQz5VKpMCKQ"
      },
      "source": [
        "# II - Importar librerías"
      ]
    },
    {
      "cell_type": "code",
      "metadata": {
        "collapsed": true,
        "id": "BX5dN__UMCKS"
      },
      "source": [
        "from classifier import *"
      ],
      "execution_count": 61,
      "outputs": []
    },
    {
      "cell_type": "markdown",
      "metadata": {
        "id": "vUgx3BH70O5Q"
      },
      "source": [
        "# III - LECTURA DE DATOS"
      ]
    },
    {
      "cell_type": "code",
      "metadata": {
        "id": "pVZVhMwb2BE4"
      },
      "source": [
        "Opiniones = open(\"OpinionesPocoX3.txt\")\n",
        "Opiniones_arr = Opiniones.read().splitlines()\n",
        "Opiniones.close()"
      ],
      "execution_count": 62,
      "outputs": []
    },
    {
      "cell_type": "code",
      "metadata": {
        "id": "0xHeaQM_IJxF"
      },
      "source": [
        "# Arreglo de comentarios con número para el plot final\n",
        "Nro_Comentarios = []\n",
        "for i in range(len(Opiniones_arr)):\n",
        "  Nro_Comentarios.append(\"Com\"+str(i+1))"
      ],
      "execution_count": 63,
      "outputs": []
    },
    {
      "cell_type": "markdown",
      "metadata": {
        "id": "-ERux_sl0XoX"
      },
      "source": [
        "# IV - ANÁLISIS DE SENTIMIENTOS "
      ]
    },
    {
      "cell_type": "markdown",
      "metadata": {
        "id": "AUTCiYNnMCKT"
      },
      "source": [
        "Crear un clasificador a partir de la clase SentimentClassifier."
      ]
    },
    {
      "cell_type": "code",
      "metadata": {
        "collapsed": true,
        "id": "oBvM46YKMCKU"
      },
      "source": [
        "clf = SentimentClassifier()"
      ],
      "execution_count": 64,
      "outputs": []
    },
    {
      "cell_type": "code",
      "metadata": {
        "id": "ILenn_8pMCKj"
      },
      "source": [
        "# Arreglos\n",
        "Positivos = []\n",
        "Negativos = []\n",
        "Neutral = []\n",
        "\n",
        "# Contadores\n",
        "C_N = 0\n",
        "C_n = 0\n",
        "C_P = 0\n",
        "\n",
        "lista_de_popularidad=[]\n",
        "\n",
        "for e in Opiniones_arr:\n",
        "  Valor = clf.predict(e)\n",
        "  lista_de_popularidad.append(Valor)\n",
        "  if (Valor < 0.40):\n",
        "    Negativos.append('%.5f' % Valor + ' <== ' + e)\n",
        "    C_N += 1 \n",
        "  elif (Valor > 0.6):\n",
        "    Positivos.append('%.5f' % Valor + ' <== ' + e)\n",
        "    C_P += 1\n",
        "  else:\n",
        "    Neutral.append('%.5f' % Valor + ' <== ' + e) \n",
        "    C_n += 1\n",
        "\n",
        "Dic = {}\n",
        "Dic['Nombre'] = ['Negativo', 'Neutral', 'Positivo']\n",
        "Dic['Cantidad'] = [C_N, C_n, C_P]"
      ],
      "execution_count": 65,
      "outputs": []
    },
    {
      "cell_type": "markdown",
      "metadata": {
        "id": "gC7qxwfrS0F0"
      },
      "source": [
        "## Polaridad Negativa"
      ]
    },
    {
      "cell_type": "code",
      "metadata": {
        "colab": {
          "base_uri": "https://localhost:8080/"
        },
        "id": "c4hI7jBF86KO",
        "outputId": "dbbde0c7-3fac-4dfb-fe29-b109f9b1b862"
      },
      "source": [
        "print(' ')\n",
        "print(' '.join([''] * 30) + 'Polaridad Negativa')\n",
        "print(' ')\n",
        "for N in Negativos:\n",
        "    print(N)"
      ],
      "execution_count": 66,
      "outputs": [
        {
          "output_type": "stream",
          "text": [
            " \n",
            "                             Polaridad Negativa\n",
            " \n",
            "0.12748 <== Es bastante rápido en todas sus funciones. Lo que no me gusta es que se drena la batería sin usar, 5 por ciento cada 12 horas. Ojalá lo arreglen con una próxima actualización.\n"
          ],
          "name": "stdout"
        }
      ]
    },
    {
      "cell_type": "markdown",
      "metadata": {
        "id": "YFnUdBH2S8Nb"
      },
      "source": [
        "## Polaridad Neutral"
      ]
    },
    {
      "cell_type": "code",
      "metadata": {
        "colab": {
          "base_uri": "https://localhost:8080/"
        },
        "id": "mlgBUQwmAt19",
        "outputId": "78eba1f4-839f-4ada-8237-42f44fb71968"
      },
      "source": [
        "print(' ')\n",
        "print(' '.join([''] * 30) + 'Polaridad Neutra')\n",
        "print(' ')\n",
        "for n in Neutral:\n",
        "    print(n)"
      ],
      "execution_count": 67,
      "outputs": [
        {
          "output_type": "stream",
          "text": [
            " \n",
            "                             Polaridad Neutra\n",
            " \n",
            "0.40945 <== Poco x3 pro. Hermoso celular. Y espero me dure por muchos años.\n",
            "0.51852 <== Es un excelente equipo, tiene muchísimas puntos a favor, sobretodo la velocidad para ejecutar aplicaciones, en cuanto a los juegos debería haberme ido mejor sin embargo al menos para un juego que de llama dota underlords, demora un poquito más de lo que hubiera esperado y eso que esta es la versión de 8gbs de ram, otro punto en contra es la gran cantidad de publicidad que tiene en sus juegos que están instalados por defecto que por cierto algunas veces tienen bugs, como no reconocer las teclas, otro punto en contra es que en teoría la batería debería ser bastante duradera por los 5000 mh pero se gastan relativamente rápido, he leído que es por una mala optimización del software nativo miui, pero el celular se carga rapidísimo también, otro detalle es que si bien es cierto no quema cuando calienta, llega a alcanzar más de 52° de temperatura cuando se juega, el lector de huella es muy veloz, los parlantes bastantes fuertes, no es taaan pesado como dicen y ojalá las actualizaciones futuras lo optimicen, para su precio definitivamente es lo mejor que vas a encontrar para velocidad y procesamiento de aplicaciones, excelente equipo, pero definitivamente no es perfecto :3.\n"
          ],
          "name": "stdout"
        }
      ]
    },
    {
      "cell_type": "markdown",
      "metadata": {
        "id": "-dVbuUXUS_mz"
      },
      "source": [
        "## Polaridad Positiva"
      ]
    },
    {
      "cell_type": "code",
      "metadata": {
        "colab": {
          "base_uri": "https://localhost:8080/"
        },
        "id": "oWexB1F2-NyX",
        "outputId": "1ec99c74-f9e2-4590-886b-8a9e666f3ab4"
      },
      "source": [
        "print(' ')\n",
        "print(' '.join([''] * 30) + 'Polaridad Positiva')\n",
        "print(' ')\n",
        "for P in Positivos:\n",
        "    print(P)"
      ],
      "execution_count": 68,
      "outputs": [
        {
          "output_type": "stream",
          "text": [
            " \n",
            "                             Polaridad Positiva\n",
            " \n",
            "0.70430 <== Buen equipo es rápido y tiene buen rendimiento. Lo único malo es su camara de 48 megapixel.\n",
            "0.77372 <== El color bronce es elegante, celular robusto y con buen peso, fuerte con una buena pantalla y potencia increíble, le agregué una sd de 1tr como almacenaje. Las cámaras buenas y con gcam más que buenas. Buen sensor de huella muy rápido, buen sonido stereo, bateria de más de 5000 mamp. Con nfc lo uso con mi hometheatre conectado a mi blueray con nfc.\n",
            "0.86429 <== Es un equipo excelente sus accesos te da facilidad a todo parece un gama alta.\n",
            "0.70155 <== El producto es el mejor del mercado respecto a calidad precio!, sin duda alguna el mejor celular que he podido adquirir en toda mi vida.\n",
            "0.86251 <== Se coordino rápido, y lo pude recojer el mismo día !!.\n",
            "0.88861 <== Excelente equipo funcional , no me convence mucho la calidad de la cámara pero lo demás todo ok el sistema bien fluido velocidad exelente.\n",
            "0.95977 <== Muy buen equipo cumplio con todo.\n"
          ],
          "name": "stdout"
        }
      ]
    },
    {
      "cell_type": "markdown",
      "metadata": {
        "id": "Olf50QILIODZ"
      },
      "source": [
        "# V. GRÁFICAS DE ANÁLISIS DE SENTIMIENTO"
      ]
    },
    {
      "cell_type": "markdown",
      "metadata": {
        "id": "s7V-tHHgJmLe"
      },
      "source": [
        "## Diagrama de Dispersión"
      ]
    },
    {
      "cell_type": "code",
      "metadata": {
        "colab": {
          "base_uri": "https://localhost:8080/",
          "height": 621
        },
        "id": "X-Its6KKH2UV",
        "outputId": "5b1025c8-170a-4381-cd39-6c27ae9d09e8"
      },
      "source": [
        "plt.figure(figsize=(20,10))\n",
        "plt.scatter(Nro_Comentarios,lista_de_popularidad)\n",
        "plt.title(\"DIAGRAMA DE DISPERSIÓN DE ANÁLISIS DE SENTIMIENTOS\")\n",
        "plt.xlabel(\"Comentarios\")\n",
        "plt.ylabel(\"Sentimientos\")\n",
        "plt.show()"
      ],
      "execution_count": 69,
      "outputs": [
        {
          "output_type": "display_data",
          "data": {
            "image/png": "[encoded data removed]",
            "text/plain": [
              "<Figure size 1440x720 with 1 Axes>"
            ]
          },
          "metadata": {
            "needs_background": "light"
          }
        }
      ]
    },
    {
      "cell_type": "markdown",
      "metadata": {
        "id": "cVqqACWFJwy2"
      },
      "source": [
        "# Gráfico de Barras"
      ]
    },
    {
      "cell_type": "code",
      "metadata": {
        "colab": {
          "base_uri": "https://localhost:8080/",
          "height": 265
        },
        "id": "4SzLRlRxEH4O",
        "outputId": "85000dc3-3296-4035-b9bf-8bbda2241cae"
      },
      "source": [
        "import pandas as pd\n",
        "import matplotlib.pyplot as plt\n",
        "\n",
        "\n",
        "plt.bar(Dic['Nombre'], Dic['Cantidad'], color=['r','c','b'])\n",
        "plt.show()"
      ],
      "execution_count": 70,
      "outputs": [
        {
          "output_type": "display_data",
          "data": {
            "image/png": "[encoded data removed]",
            "text/plain": [
              "<Figure size 432x288 with 1 Axes>"
            ]
          },
          "metadata": {
            "needs_background": "light"
          }
        }
      ]
    }
  ]
}