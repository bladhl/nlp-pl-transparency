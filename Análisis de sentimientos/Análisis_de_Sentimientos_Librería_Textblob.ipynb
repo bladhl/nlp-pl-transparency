{
  "nbformat": 4,
  "nbformat_minor": 0,
  "metadata": {
    "colab": {
      "name": "Análisis de Sentimientos Librería Textblob.ipynb",
      "provenance": [],
      "collapsed_sections": []
    },
    "kernelspec": {
      "name": "python3",
      "display_name": "Python 3"
    },
    "language_info": {
      "name": "python"
    }
  },
  "cells": [
    {
      "cell_type": "markdown",
      "metadata": {
        "id": "50Rx1SQ9ySKj"
      },
      "source": [
        "# Librería textblob para análisis de sentimientos en python"
      ]
    },
    {
      "cell_type": "markdown",
      "metadata": {
        "id": "15n4G18z99W5"
      },
      "source": [
        "## Librerías a usar"
      ]
    },
    {
      "cell_type": "code",
      "metadata": {
        "colab": {
          "base_uri": "https://localhost:8080/"
        },
        "id": "IcFA-oqvI72k",
        "outputId": "f09790ab-a831-463b-8f89-efcf7ae33613"
      },
      "source": [
        "pip install textblob"
      ],
      "execution_count": 1,
      "outputs": [
        {
          "output_type": "stream",
          "text": [
            "Requirement already satisfied: textblob in /usr/local/lib/python3.7/dist-packages (0.15.3)\n",
            "Requirement already satisfied: nltk>=3.1 in /usr/local/lib/python3.7/dist-packages (from textblob) (3.2.5)\n",
            "Requirement already satisfied: six in /usr/local/lib/python3.7/dist-packages (from nltk>=3.1->textblob) (1.15.0)\n"
          ],
          "name": "stdout"
        }
      ]
    },
    {
      "cell_type": "code",
      "metadata": {
        "colab": {
          "base_uri": "https://localhost:8080/"
        },
        "id": "LoU8pY2KUi-N",
        "outputId": "c777f6e4-f73f-4d3c-e7f1-78f46d76941f"
      },
      "source": [
        "pip install googletrans==4.0.0rc1"
      ],
      "execution_count": 2,
      "outputs": [
        {
          "output_type": "stream",
          "text": [
            "Requirement already satisfied: googletrans==4.0.0rc1 in /usr/local/lib/python3.7/dist-packages (4.0.0rc1)\n",
            "Requirement already satisfied: httpx==0.13.3 in /usr/local/lib/python3.7/dist-packages (from googletrans==4.0.0rc1) (0.13.3)\n",
            "Requirement already satisfied: httpcore==0.9.* in /usr/local/lib/python3.7/dist-packages (from httpx==0.13.3->googletrans==4.0.0rc1) (0.9.1)\n",
            "Requirement already satisfied: sniffio in /usr/local/lib/python3.7/dist-packages (from httpx==0.13.3->googletrans==4.0.0rc1) (1.2.0)\n",
            "Requirement already satisfied: hstspreload in /usr/local/lib/python3.7/dist-packages (from httpx==0.13.3->googletrans==4.0.0rc1) (2021.8.1)\n",
            "Requirement already satisfied: idna==2.* in /usr/local/lib/python3.7/dist-packages (from httpx==0.13.3->googletrans==4.0.0rc1) (2.10)\n",
            "Requirement already satisfied: rfc3986<2,>=1.3 in /usr/local/lib/python3.7/dist-packages (from httpx==0.13.3->googletrans==4.0.0rc1) (1.5.0)\n",
            "Requirement already satisfied: certifi in /usr/local/lib/python3.7/dist-packages (from httpx==0.13.3->googletrans==4.0.0rc1) (2021.5.30)\n",
            "Requirement already satisfied: chardet==3.* in /usr/local/lib/python3.7/dist-packages (from httpx==0.13.3->googletrans==4.0.0rc1) (3.0.4)\n",
            "Requirement already satisfied: h2==3.* in /usr/local/lib/python3.7/dist-packages (from httpcore==0.9.*->httpx==0.13.3->googletrans==4.0.0rc1) (3.2.0)\n",
            "Requirement already satisfied: h11<0.10,>=0.8 in /usr/local/lib/python3.7/dist-packages (from httpcore==0.9.*->httpx==0.13.3->googletrans==4.0.0rc1) (0.9.0)\n",
            "Requirement already satisfied: hyperframe<6,>=5.2.0 in /usr/local/lib/python3.7/dist-packages (from h2==3.*->httpcore==0.9.*->httpx==0.13.3->googletrans==4.0.0rc1) (5.2.0)\n",
            "Requirement already satisfied: hpack<4,>=3.0 in /usr/local/lib/python3.7/dist-packages (from h2==3.*->httpcore==0.9.*->httpx==0.13.3->googletrans==4.0.0rc1) (3.0.0)\n"
          ],
          "name": "stdout"
        }
      ]
    },
    {
      "cell_type": "code",
      "metadata": {
        "id": "6ZZGv0cZLFFy"
      },
      "source": [
        "from textblob import TextBlob\n",
        "import pandas as pd\n",
        "import matplotlib.pyplot as plt\n",
        "from googletrans import Translator"
      ],
      "execution_count": 37,
      "outputs": []
    },
    {
      "cell_type": "markdown",
      "metadata": {
        "id": "AD_aLa4M-AhE"
      },
      "source": [
        "## Lectura de datos"
      ]
    },
    {
      "cell_type": "code",
      "metadata": {
        "id": "fMK9Ee_4LEXL"
      },
      "source": [
        "Opiniones = open(\"OpinionesPocoX3.txt\")\n",
        "Opiniones_arr = Opiniones.read().splitlines()\n",
        "Opiniones.close()"
      ],
      "execution_count": 13,
      "outputs": []
    },
    {
      "cell_type": "code",
      "metadata": {
        "id": "zlOokUX-09hq"
      },
      "source": [
        "# Arreglo de comentarios con número para el plot final\n",
        "Nro_Comentarios = []\n",
        "for i in range(len(Opiniones_arr)):\n",
        "  Nro_Comentarios.append(\"Com\"+str(i+1))"
      ],
      "execution_count": 38,
      "outputs": []
    },
    {
      "cell_type": "markdown",
      "metadata": {
        "id": "9dt560lb-vYR"
      },
      "source": [
        "## Análisis de sentimientos"
      ]
    },
    {
      "cell_type": "code",
      "metadata": {
        "colab": {
          "base_uri": "https://localhost:8080/"
        },
        "id": "NkRtG3JxMSy9",
        "outputId": "2c2fe900-22e1-4104-81dd-f69828b15af3"
      },
      "source": [
        "lista_de_popularidad=[]\n",
        "traductor = Translator()\n",
        "print(\"ANÁLISIS DE SENTIMIENTOS DE 10 OPINIONES SOBRE XIAOMI POCO X3\")\n",
        "for opinion in Opiniones_arr:\n",
        "  print(\"====================================================\")\n",
        "  print(opinion)\n",
        "  opinion_tr = traductor.translate(opinion, dest=\"en\")\n",
        "  nueva_op = opinion_tr.text\n",
        "  analisis = TextBlob(nueva_op)\n",
        "  analisis = analisis.sentiment\n",
        "  print(analisis)\n",
        "  if (float(analisis[0])>=-1 and float(analisis[0])<-0.3 and float(analisis[1])>=0.5):\n",
        "    print(\"Negativo y subjetivo\")\n",
        "  elif (float(analisis[0])>=-1 and float(analisis[0])<-0.3 and float(analisis[1])<0.5):\n",
        "    print(\"Negativo y objetivo\")\n",
        "  elif (float(analisis[0])>=-0.3 and float(analisis[0])<0.3 and float(analisis[1])>=0.5):\n",
        "    print(\"Neutro y subjetivo\")\n",
        "  elif (float(analisis[0])>=-0.3 and float(analisis[0])<0.3 and float(analisis[1])<0.5):\n",
        "    print(\"Neutro y objetivo\")\n",
        "  elif (float(analisis[0])>=0.3 and float(analisis[0])<=1 and float(analisis[1])>=0.5):\n",
        "    print(\"Positivo y subjetivo\")\n",
        "  elif (float(analisis[0])>=0.3 and float(analisis[0])<=1 and float(analisis[1])<0.5):\n",
        "    print(\"Positivo y objetivo\")\n",
        "  popularidad = analisis.polarity\n",
        "  lista_de_popularidad.append(popularidad)"
      ],
      "execution_count": 42,
      "outputs": [
        {
          "output_type": "stream",
          "text": [
            "ANÁLISIS DE SENTIMIENTOS DE 10 OPINIONES SOBRE XIAOMI POCO X3\n",
            "====================================================\n",
            "Poco x3 pro. Hermoso celular. Y espero me dure por muchos años.\n",
            "Sentiment(polarity=0.15625, subjectivity=0.5)\n",
            "Neutro y subjetivo\n",
            "====================================================\n",
            "Es bastante rápido en todas sus funciones. Lo que no me gusta es que se drena la batería sin usar, 5 por ciento cada 12 horas. Ojalá lo arreglen con una próxima actualización.\n",
            "Sentiment(polarity=0.1, subjectivity=0.3)\n",
            "Neutro y objetivo\n",
            "====================================================\n",
            "Es un excelente equipo, tiene muchísimas puntos a favor, sobretodo la velocidad para ejecutar aplicaciones, en cuanto a los juegos debería haberme ido mejor sin embargo al menos para un juego que de llama dota underlords, demora un poquito más de lo que hubiera esperado y eso que esta es la versión de 8gbs de ram, otro punto en contra es la gran cantidad de publicidad que tiene en sus juegos que están instalados por defecto que por cierto algunas veces tienen bugs, como no reconocer las teclas, otro punto en contra es que en teoría la batería debería ser bastante duradera por los 5000 mh pero se gastan relativamente rápido, he leído que es por una mala optimización del software nativo miui, pero el celular se carga rapidísimo también, otro detalle es que si bien es cierto no quema cuando calienta, llega a alcanzar más de 52° de temperatura cuando se juega, el lector de huella es muy veloz, los parlantes bastantes fuertes, no es taaan pesado como dicen y ojalá las actualizaciones futuras lo optimicen, para su precio definitivamente es lo mejor que vas a encontrar para velocidad y procesamiento de aplicaciones, excelente equipo, pero definitivamente no es perfecto :3.\n",
            "Sentiment(polarity=0.19458829365079366, subjectivity=0.577093253968254)\n",
            "Neutro y subjetivo\n",
            "====================================================\n",
            "Buen equipo es rápido y tiene buen rendimiento. Lo único malo es su camara de 48 megapixel.\n",
            "Sentiment(polarity=0.18, subjectivity=0.6933333333333334)\n",
            "Neutro y subjetivo\n",
            "====================================================\n",
            "El color bronce es elegante, celular robusto y con buen peso, fuerte con una buena pantalla y potencia increíble, le agregué una sd de 1tr como almacenaje. Las cámaras buenas y con gcam más que buenas. Buen sensor de huella muy rápido, buen sonido stereo, bateria de más de 5000 mamp. Con nfc lo uso con mi hometheatre conectado a mi blueray con nfc.\n",
            "Sentiment(polarity=0.5721212121212121, subjectivity=0.6557575757575759)\n",
            "Positivo y subjetivo\n",
            "====================================================\n",
            "Es un equipo excelente sus accesos te da facilidad a todo parece un gama alta.\n",
            "Sentiment(polarity=0.58, subjectivity=0.77)\n",
            "Positivo y subjetivo\n",
            "====================================================\n",
            "El producto es el mejor del mercado respecto a calidad precio!, sin duda alguna el mejor celular que he podido adquirir en toda mi vida.\n",
            "Sentiment(polarity=0.8333333333333334, subjectivity=0.4083333333333334)\n",
            "Positivo y objetivo\n",
            "====================================================\n",
            "Se coordino rápido, y lo pude recojer el mismo día !!.\n",
            "Sentiment(polarity=0.0, subjectivity=0.125)\n",
            "Neutro y objetivo\n",
            "====================================================\n",
            "Excelente equipo funcional , no me convence mucho la calidad de la cámara pero lo demás todo ok el sistema bien fluido velocidad exelente.\n",
            "Sentiment(polarity=0.5, subjectivity=0.5333333333333333)\n",
            "Positivo y subjetivo\n",
            "====================================================\n",
            "Muy buen equipo cumplio con todo.\n",
            "Sentiment(polarity=0.9099999999999999, subjectivity=0.7800000000000001)\n",
            "Positivo y subjetivo\n"
          ],
          "name": "stdout"
        }
      ]
    },
    {
      "cell_type": "markdown",
      "metadata": {
        "id": "w24IQsI0-yyC"
      },
      "source": [
        "## Gráfica de análisis de sentimientos"
      ]
    },
    {
      "cell_type": "code",
      "metadata": {
        "colab": {
          "base_uri": "https://localhost:8080/",
          "height": 578
        },
        "id": "JPQYQB4e9VJ9",
        "outputId": "a7c48df9-1c8c-4b54-d34c-69000f8f0dd8"
      },
      "source": [
        "plt.figure(figsize=(20,10))\n",
        "plt.scatter(Nro_Comentarios,lista_de_popularidad)\n",
        "plt.title(\"DIAGRAMA DE DISPERSIÓN DE ANÁLISIS DE SENTIMIENTOS\")\n",
        "plt.xlabel(\"Comentarios\")\n",
        "plt.ylabel(\"Sentimientos\")\n",
        "plt.show()"
      ],
      "execution_count": 44,
      "outputs": [
        {
          "output_type": "display_data",
          "data": {
            "image/png": "[encoded data removed]",
            "text/plain": [
              "<Figure size 1440x720 with 1 Axes>"
            ]
          },
          "metadata": {
            "needs_background": "light"
          }
        }
      ]
    }
  ]
}